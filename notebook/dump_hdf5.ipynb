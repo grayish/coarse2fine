{
 "cells": [
  {
   "cell_type": "code",
   "execution_count": 11,
   "metadata": {
    "ExecuteTime": {
     "end_time": "2018-05-30T15:32:54.768497Z",
     "start_time": "2018-05-30T15:32:54.762997Z"
    }
   },
   "outputs": [],
   "source": [
    "import h5py\n",
    "from tqdm import tqdm\n",
    "from enum import Enum\n",
    "import numpy as np\n",
    "import os"
   ]
  },
  {
   "cell_type": "code",
   "execution_count": 2,
   "metadata": {
    "ExecuteTime": {
     "end_time": "2018-05-30T15:25:22.191329Z",
     "start_time": "2018-05-30T15:25:22.159994Z"
    }
   },
   "outputs": [],
   "source": [
    "class Annotation(Enum):\n",
    "    S = 'S'\n",
    "    Center = 'center'\n",
    "    Part = 'part'\n",
    "    Scale = 'scale'\n",
    "    Z = 'zind'\n",
    "    Image = 'image'\n",
    "\n",
    "    def to_str(self):\n",
    "        return str(self)\n",
    "\n",
    "    def __str__(self):\n",
    "        return self.value\n",
    "\n",
    "\n",
    "annotations = dict()\n",
    "annotations['train'] = [\n",
    "    Annotation.S,\n",
    "    Annotation.Center,\n",
    "    Annotation.Part,\n",
    "    Annotation.Scale,\n",
    "    Annotation.Z,\n",
    "]\n",
    "annotations['valid'] = [\n",
    "    Annotation.Center,\n",
    "    Annotation.Scale,\n",
    "]"
   ]
  },
  {
   "cell_type": "code",
   "execution_count": 4,
   "metadata": {
    "ExecuteTime": {
     "end_time": "2018-05-30T15:25:31.722420Z",
     "start_time": "2018-05-30T15:25:31.718273Z"
    }
   },
   "outputs": [],
   "source": []
  },
  {
   "cell_type": "code",
   "execution_count": 5,
   "metadata": {
    "ExecuteTime": {
     "end_time": "2018-05-30T15:25:34.768692Z",
     "start_time": "2018-05-30T15:25:34.763185Z"
    }
   },
   "outputs": [],
   "source": [
    "data_train = dict()"
   ]
  },
  {
   "cell_type": "code",
   "execution_count": 7,
   "metadata": {
    "ExecuteTime": {
     "end_time": "2018-05-30T15:31:03.957130Z",
     "start_time": "2018-05-30T15:26:30.795124Z"
    }
   },
   "outputs": [
    {
     "name": "stderr",
     "output_type": "stream",
     "text": [
      "S: 100%|██████████| 312188/312188 [00:56<00:00, 5557.42it/s]\n",
      "center: 100%|██████████| 312188/312188 [00:55<00:00, 5578.62it/s]\n",
      "part: 100%|██████████| 312188/312188 [00:56<00:00, 5530.65it/s]\n",
      "scale: 100%|██████████| 312188/312188 [00:52<00:00, 5941.60it/s]\n",
      "zind: 100%|██████████| 312188/312188 [00:52<00:00, 6001.30it/s]\n"
     ]
    },
    {
     "ename": "NameError",
     "evalue": "name 'join' is not defined",
     "output_type": "error",
     "traceback": [
      "\u001b[0;31m---------------------------------------------------------------------------\u001b[0m",
      "\u001b[0;31mNameError\u001b[0m                                 Traceback (most recent call last)",
      "\u001b[0;32m<ipython-input-7-771086a5b9cd>\u001b[0m in \u001b[0;36m<module>\u001b[0;34m()\u001b[0m\n\u001b[1;32m      4\u001b[0m         \u001b[0mdata_train\u001b[0m\u001b[0;34m[\u001b[0m\u001b[0mstr\u001b[0m\u001b[0;34m(\u001b[0m\u001b[0mannotation\u001b[0m\u001b[0;34m)\u001b[0m\u001b[0;34m]\u001b[0m\u001b[0;34m.\u001b[0m\u001b[0mappend\u001b[0m\u001b[0;34m(\u001b[0m\u001b[0mfile\u001b[0m\u001b[0;34m[\u001b[0m\u001b[0mstr\u001b[0m\u001b[0;34m(\u001b[0m\u001b[0mannotation\u001b[0m\u001b[0;34m)\u001b[0m\u001b[0;34m]\u001b[0m\u001b[0;34m[\u001b[0m\u001b[0mindex\u001b[0m\u001b[0;34m]\u001b[0m\u001b[0;34m)\u001b[0m\u001b[0;34m\u001b[0m\u001b[0m\n\u001b[1;32m      5\u001b[0m \u001b[0;34m\u001b[0m\u001b[0m\n\u001b[0;32m----> 6\u001b[0;31m \u001b[0mimage_name_file\u001b[0m \u001b[0;34m=\u001b[0m \u001b[0mjoin\u001b[0m\u001b[0;34m(\u001b[0m\u001b[0mannotation_path\u001b[0m\u001b[0;34m,\u001b[0m \u001b[0;34m'%s_images.txt'\u001b[0m \u001b[0;34m%\u001b[0m \u001b[0mtask\u001b[0m\u001b[0;34m)\u001b[0m\u001b[0;34m\u001b[0m\u001b[0m\n\u001b[0m\u001b[1;32m      7\u001b[0m \u001b[0mdata_train\u001b[0m\u001b[0;34m[\u001b[0m\u001b[0mstr\u001b[0m\u001b[0;34m(\u001b[0m\u001b[0mAnnotation\u001b[0m\u001b[0;34m.\u001b[0m\u001b[0mImage\u001b[0m\u001b[0;34m)\u001b[0m\u001b[0;34m]\u001b[0m \u001b[0;34m=\u001b[0m \u001b[0mnp\u001b[0m\u001b[0;34m.\u001b[0m\u001b[0mgenfromtxt\u001b[0m\u001b[0;34m(\u001b[0m\u001b[0mimage_name_file\u001b[0m\u001b[0;34m,\u001b[0m \u001b[0mdtype\u001b[0m\u001b[0;34m=\u001b[0m\u001b[0mstr\u001b[0m\u001b[0;34m)\u001b[0m\u001b[0;34m\u001b[0m\u001b[0m\n",
      "\u001b[0;31mNameError\u001b[0m: name 'join' is not defined"
     ]
    }
   ],
   "source": [
    "#train dump\n",
    "annotation_file = '../Human3.6M/annot/train.h5'\n",
    "file = h5py.File(annotation_file, 'r')\n",
    "for annotation in annotations['train']:\n",
    "    data_train[str(annotation)] = list()\n",
    "    for index in tqdm(range(len(file[str(annotation)])), desc=str(annotation)):\n",
    "        data_train[str(annotation)].append(file[str(annotation)][index])\n",
    "\n",
    "image_name_file = '../Human3.6M/annot/train_images.txt'\n",
    "image_name_file = os.path.abspath(image_name_file)\n",
    "data_train[str(Annotation.Image)] = np.genfromtxt(image_name_file, dtype=str)"
   ]
  },
  {
   "cell_type": "code",
   "execution_count": 21,
   "metadata": {
    "ExecuteTime": {
     "end_time": "2018-05-30T15:40:56.105844Z",
     "start_time": "2018-05-30T15:40:56.103661Z"
    }
   },
   "outputs": [],
   "source": [
    "data_valid = dict()"
   ]
  },
  {
   "cell_type": "code",
   "execution_count": 22,
   "metadata": {
    "ExecuteTime": {
     "end_time": "2018-05-30T15:41:23.882656Z",
     "start_time": "2018-05-30T15:41:23.733889Z"
    }
   },
   "outputs": [
    {
     "name": "stderr",
     "output_type": "stream",
     "text": [
      "center: 100%|██████████| 394/394 [00:00<00:00, 5421.26it/s]\n",
      "scale: 100%|██████████| 394/394 [00:00<00:00, 6105.81it/s]\n"
     ]
    }
   ],
   "source": [
    "#train dump\n",
    "annotation_file = '../Human3.6M/annot/valid.h5'\n",
    "file = h5py.File(annotation_file, 'r')\n",
    "for annotation in annotations['valid']:\n",
    "    data_valid[str(annotation)] = list()\n",
    "    for index in tqdm(range(len(file[str(annotation)])), desc=str(annotation)):\n",
    "        data_valid[str(annotation)].append(file[str(annotation)][index])\n",
    "\n",
    "image_name_file = '../Human3.6M/annot/valid_images.txt'\n",
    "image_name_file = os.path.abspath(image_name_file)\n",
    "data_valid[str(Annotation.Image)] = np.genfromtxt(image_name_file, dtype=str)"
   ]
  },
  {
   "cell_type": "code",
   "execution_count": null,
   "metadata": {},
   "outputs": [],
   "source": []
  },
  {
   "cell_type": "code",
   "execution_count": 10,
   "metadata": {
    "ExecuteTime": {
     "end_time": "2018-05-30T15:32:41.040220Z",
     "start_time": "2018-05-30T15:32:41.033156Z"
    }
   },
   "outputs": [
    {
     "data": {
      "text/plain": [
       "numpy.ndarray"
      ]
     },
     "execution_count": 10,
     "metadata": {},
     "output_type": "execute_result"
    }
   ],
   "source": [
    "type(data_train['S'][0])"
   ]
  },
  {
   "cell_type": "code",
   "execution_count": 14,
   "metadata": {
    "ExecuteTime": {
     "end_time": "2018-05-30T15:34:40.898185Z",
     "start_time": "2018-05-30T15:34:40.893054Z"
    }
   },
   "outputs": [
    {
     "name": "stdout",
     "output_type": "stream",
     "text": [
      "/home/grayish/coarse2fine/Human3.6M/annot/train_images.txt\n"
     ]
    }
   ],
   "source": [
    "\n",
    "print(image_name_file)"
   ]
  },
  {
   "cell_type": "code",
   "execution_count": 15,
   "metadata": {
    "ExecuteTime": {
     "end_time": "2018-05-30T15:35:11.765296Z",
     "start_time": "2018-05-30T15:35:11.231560Z"
    }
   },
   "outputs": [],
   "source": []
  },
  {
   "cell_type": "code",
   "execution_count": 16,
   "metadata": {
    "ExecuteTime": {
     "end_time": "2018-05-30T15:35:20.062538Z",
     "start_time": "2018-05-30T15:35:20.059858Z"
    }
   },
   "outputs": [],
   "source": [
    "import pickle"
   ]
  },
  {
   "cell_type": "code",
   "execution_count": 17,
   "metadata": {
    "ExecuteTime": {
     "end_time": "2018-05-30T15:37:30.056756Z",
     "start_time": "2018-05-30T15:37:22.148654Z"
    }
   },
   "outputs": [],
   "source": [
    "pickle.dump( data_train, open( \"train.bin\", \"wb\" ) )"
   ]
  },
  {
   "cell_type": "code",
   "execution_count": 18,
   "metadata": {
    "ExecuteTime": {
     "end_time": "2018-05-30T15:38:51.260601Z",
     "start_time": "2018-05-30T15:38:48.297429Z"
    }
   },
   "outputs": [],
   "source": [
    "test_data = pickle.load(open(\"train.bin\", 'rb'))"
   ]
  },
  {
   "cell_type": "code",
   "execution_count": 19,
   "metadata": {
    "ExecuteTime": {
     "end_time": "2018-05-30T15:39:02.554204Z",
     "start_time": "2018-05-30T15:39:02.549358Z"
    }
   },
   "outputs": [
    {
     "data": {
      "text/plain": [
       "array([[ -176.71873095,  -321.14758597,  5203.87428583],\n",
       "       [ -300.49984317,  -332.39276616,  5156.68125222],\n",
       "       [ -258.24048857,    99.60905053,  5244.68147203],\n",
       "       [ -209.48436389,   548.83382497,  5290.76367197],\n",
       "       [  -52.96191118,  -309.7044902 ,  5251.08279046],\n",
       "       [ -155.64155821,    73.07175588,  5448.80702584],\n",
       "       [  -29.83157265,   506.78445233,  5400.13833872],\n",
       "       [ -109.15762285,  -529.7281668 ,  5123.8906273 ],\n",
       "       [ -140.19117593,  -780.12137495,  5074.60478778],\n",
       "       [ -153.18189183,  -886.97613704,  5130.16533353],\n",
       "       [ -118.93483197,  -970.22827344,  5058.5990502 ],\n",
       "       [ -259.08997397,  -690.13358895,  5050.59205089],\n",
       "       [ -370.67089216,  -448.59930095,  5134.17726128],\n",
       "       [ -462.28663516,  -290.82947286,  5307.6274481 ],\n",
       "       [  -19.76034113,  -716.91810277,  5140.27255285],\n",
       "       [   35.79161007,  -470.14491849,  5257.73845884],\n",
       "       [   13.89246482,  -279.85293245,  5421.06854165]])"
      ]
     },
     "execution_count": 19,
     "metadata": {},
     "output_type": "execute_result"
    }
   ],
   "source": [
    "data_train['S'][0]"
   ]
  },
  {
   "cell_type": "code",
   "execution_count": 20,
   "metadata": {
    "ExecuteTime": {
     "end_time": "2018-05-30T15:39:06.968172Z",
     "start_time": "2018-05-30T15:39:06.961965Z"
    },
    "scrolled": true
   },
   "outputs": [
    {
     "data": {
      "text/plain": [
       "array([[ -176.71873095,  -321.14758597,  5203.87428583],\n",
       "       [ -300.49984317,  -332.39276616,  5156.68125222],\n",
       "       [ -258.24048857,    99.60905053,  5244.68147203],\n",
       "       [ -209.48436389,   548.83382497,  5290.76367197],\n",
       "       [  -52.96191118,  -309.7044902 ,  5251.08279046],\n",
       "       [ -155.64155821,    73.07175588,  5448.80702584],\n",
       "       [  -29.83157265,   506.78445233,  5400.13833872],\n",
       "       [ -109.15762285,  -529.7281668 ,  5123.8906273 ],\n",
       "       [ -140.19117593,  -780.12137495,  5074.60478778],\n",
       "       [ -153.18189183,  -886.97613704,  5130.16533353],\n",
       "       [ -118.93483197,  -970.22827344,  5058.5990502 ],\n",
       "       [ -259.08997397,  -690.13358895,  5050.59205089],\n",
       "       [ -370.67089216,  -448.59930095,  5134.17726128],\n",
       "       [ -462.28663516,  -290.82947286,  5307.6274481 ],\n",
       "       [  -19.76034113,  -716.91810277,  5140.27255285],\n",
       "       [   35.79161007,  -470.14491849,  5257.73845884],\n",
       "       [   13.89246482,  -279.85293245,  5421.06854165]])"
      ]
     },
     "execution_count": 20,
     "metadata": {},
     "output_type": "execute_result"
    }
   ],
   "source": [
    "test_data['S'][0]"
   ]
  },
  {
   "cell_type": "code",
   "execution_count": 23,
   "metadata": {
    "ExecuteTime": {
     "end_time": "2018-05-30T15:42:11.524682Z",
     "start_time": "2018-05-30T15:42:11.516018Z"
    }
   },
   "outputs": [],
   "source": [
    "pickle.dump( data_valid, open( \"valid.bin\", \"wb\" ) )"
   ]
  },
  {
   "cell_type": "code",
   "execution_count": null,
   "metadata": {},
   "outputs": [],
   "source": []
  }
 ],
 "metadata": {
  "kernelspec": {
   "display_name": "torch-91",
   "language": "python",
   "name": "torch-91"
  },
  "language_info": {
   "codemirror_mode": {
    "name": "ipython",
    "version": 3
   },
   "file_extension": ".py",
   "mimetype": "text/x-python",
   "name": "python",
   "nbconvert_exporter": "python",
   "pygments_lexer": "ipython3",
   "version": "3.6.5"
  }
 },
 "nbformat": 4,
 "nbformat_minor": 2
}
