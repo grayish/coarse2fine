{
 "cells": [
  {
   "cell_type": "code",
   "execution_count": 2,
   "metadata": {
    "collapsed": true
   },
   "outputs": [],
   "source": [
    "import h5py\n",
    "import numpy as np\n",
    "import os\n",
    "import imageio\n",
    "import cv2\n",
    "import math\n",
    "import scipy\n",
    "import scipy.io\n",
    "import scipy.misc\n",
    "import skimage\n",
    "import skimage.io\n",
    "import skimage.transform\n",
    "from functools import lru_cache\n",
    "from tqdm import tqdm as tqdm\n",
    "from vectormath import Vector2"
   ]
  },
  {
   "cell_type": "code",
   "execution_count": 3,
   "metadata": {
    "collapsed": true
   },
   "outputs": [],
   "source": [
    "class H36Mparser(object):\n",
    "    data = [\n",
    "        'S',\n",
    "        'center',\n",
    "        'part',\n",
    "        'scale',\n",
    "        'zind',\n",
    "    ]\n",
    "    \n",
    "    def __init__(self):\n",
    "        self.annotation = h5py.File('C:/Users/I.B. Park/Desktop/h36m/annot/train.h5', 'r')\n",
    "        self.image_name = np.genfromtxt('C:/Users/I.B. Park/Desktop/h36m/annot/train_images.txt', dtype = str)\n",
    "        self.shuffle = np.arange(len(self))\n",
    "    \n",
    "    @lru_cache(maxsize=1)\n",
    "    def __len__(self):\n",
    "        return len(self.image_name)\n",
    "    \n",
    "    def __iter__(self):\n",
    "        self.index = 0\n",
    "        np.random.shuffle(self.shuffle)\n",
    "        return self\n",
    "    \n",
    "    def __next__(self):\n",
    "        if self.index >= len(self):\n",
    "            raise StopIteration\n",
    "        index = self.shuffle[self.index]\n",
    "        self.index = self.index + 1\n",
    "        return [self.annotation[tag][index] for tag in H36Mparser.data] + [self.image_name[index]]"
   ]
  },
  {
   "cell_type": "code",
   "execution_count": 4,
   "metadata": {
    "collapsed": true
   },
   "outputs": [],
   "source": [
    "@lru_cache(maxsize=32)\n",
    "def gaussian(size, sigma=0.25, mean=0.5):\n",
    "    width = size\n",
    "    heigth = size\n",
    "    amplitude = 1.0\n",
    "    sigma_u = sigma\n",
    "    sigma_v = sigma\n",
    "    mean_u = mean * width + 0.5\n",
    "    mean_v = mean * heigth + 0.5\n",
    "\n",
    "    over_sigma_u = 1.0 / (sigma_u * width)\n",
    "    over_sigma_v = 1.0 / (sigma_v * heigth)\n",
    "\n",
    "    x = np.arange(0, width, 1, np.float32)\n",
    "    y = x[:, np.newaxis]\n",
    "\n",
    "    du = (x + 1 - mean_u) * over_sigma_u\n",
    "    dv = (y + 1 - mean_v) * over_sigma_v\n",
    "\n",
    "    return amplitude * np.exp(-0.5 * (du * du + dv * dv))\n",
    "\n",
    "\n",
    "def generateHeatmap(size, y0, x0, sigma=1):\n",
    "    pad = 3 * sigma\n",
    "    y0, x0 = int(y0), int(x0)\n",
    "    dst = [max(0, y0 - pad), max(0, min(size, y0 + pad + 1)), max(0, x0 - pad), max(0, min(size, x0 + pad + 1))]\n",
    "    src = [-min(0, y0 - pad), pad + min(pad, size - y0 - 1) + 1, -min(0, x0 - pad), pad + min(pad, size - x0 - 1) + 1]\n",
    "\n",
    "    heatmap = np.zeros([size, size])\n",
    "    g = gaussian(3 * 2 * sigma + 1)\n",
    "    heatmap[dst[0]:dst[1], dst[2]:dst[3]] = g[src[0]:src[1], src[2]:src[3]]\n",
    "\n",
    "    return heatmap\n",
    "\n",
    "\n",
    "def cropImage(image, center, scale, rotate, resolution):\n",
    "    center = Vector2(center)  # assign new array\n",
    "    height, width, _ = image.shape\n",
    "    crop_ratio = 200 * scale / resolution\n",
    "    if crop_ratio >= 2:  # if box size is greater than two time of resolution px\n",
    "        # scale down image\n",
    "        height = math.floor(height / crop_ratio)\n",
    "        width = math.floor(width / crop_ratio)\n",
    "\n",
    "        if max([height, width]) < 2:\n",
    "            # Zoomed out so much that the image is now a single pixel or less\n",
    "            raise ValueError(\"Width or height is invalid!\")\n",
    "\n",
    "        image = skimage.transform.resize(image, (height, width), mode='constant')\n",
    "        center /= crop_ratio\n",
    "        scale /= crop_ratio\n",
    "\n",
    "    ul = (center - 200 * scale / 2).astype(int)\n",
    "    br = (center + 200 * scale / 2).astype(int)  # Vector2\n",
    "\n",
    "    if crop_ratio >= 2:  # force image size 256 x 256\n",
    "        br -= (br - ul - resolution)\n",
    "\n",
    "    pad_length = math.ceil((ul - br).length - (br.x - ul.x) / 2)\n",
    "\n",
    "    if rotate != 0:\n",
    "        ul -= pad_length\n",
    "        br += pad_length\n",
    "\n",
    "    src = [max(0, ul.y), min(height, br.y), max(0, ul.x), min(width, br.x)]\n",
    "    dst = [max(0, -ul.y), min(height, br.y) - ul.y, max(0, -ul.x), min(width, br.x) - ul.x]\n",
    "\n",
    "    new_image = np.zeros([br.y - ul.y, br.x - ul.x, 3], dtype=np.float64)\n",
    "    new_image[dst[0]:dst[1], dst[2]:dst[3], :] = image[src[0]:src[1], src[2]:src[3], :]\n",
    "\n",
    "    if rotate != 0:\n",
    "        new_image = skimage.transform.rotate(new_image, rotate)\n",
    "        new_height, new_width, _ = new_image.shape\n",
    "        new_image = new_image[pad_length:new_height - pad_length, pad_length:new_width - pad_length, :]\n",
    "\n",
    "    if crop_ratio < 2:\n",
    "        new_image = skimage.transform.resize(new_image, (resolution, resolution), mode='constant')\n",
    "\n",
    "    return new_image"
   ]
  },
  {
   "cell_type": "code",
   "execution_count": 5,
   "metadata": {
    "collapsed": true
   },
   "outputs": [],
   "source": [
    "def generateVoxel(voxel_xy_resolution, voxel_z_resolution, xy, z, heatmap_xy_coefficient, heatmap_z_coefficient):\n",
    "    volume = np.zeros(shape = (voxel_z_resolution, voxel_xy_resolution, voxel_xy_resolution), dtype = np.float64)\n",
    "    xy_view = generateHeatmap(size = voxel_xy_resolution, y0 = xy[1], x0 = xy[0], sigma = heatmap_xy_coefficient)\n",
    "    z_view = gaussian(heatmap_z_coefficient)[math.ceil(heatmap_z_coefficient/2)]\n",
    "    cnt = 0\n",
    "    for i in range(z - math.floor(heatmap_z_coefficient/2), z + math.floor(heatmap_z_coefficient/2)):\n",
    "        if 0 <= i < voxel_z_resolution:\n",
    "            volume[i] = z_view[cnt] * xy_view\n",
    "        cnt = cnt + 1\n",
    "    return volume"
   ]
  },
  {
   "cell_type": "code",
   "execution_count": 6,
   "metadata": {
    "collapsed": true
   },
   "outputs": [],
   "source": [
    "def decode_image_name(image_name):\n",
    "    subject_action, camera_frame, _ = image_name.split('.')\n",
    "    split = subject_action.split('_')\n",
    "    subject = split[0]\n",
    "    action = split[1]\n",
    "    if len(split) >= 3:\n",
    "        action = action + '_' + split[2]\n",
    "    camera, frame = camera_frame.split('_')\n",
    "    \n",
    "    return subject, action, camera, frame"
   ]
  },
  {
   "cell_type": "code",
   "execution_count": 7,
   "metadata": {
    "collapsed": true
   },
   "outputs": [],
   "source": [
    "parser = H36Mparser()\n",
    "\n",
    "z_limits = np.squeeze(scipy.io.loadmat('C:/Users/I.B. Park/Desktop/c2f-vol-demo-master/matlab/utils/data/voxel_limits.mat')['limits'])\n",
    "z_centers = (z_limits[1:65] + z_limits[0:64]) / 2\n",
    "z_delta = z_limits[32]"
   ]
  },
  {
   "cell_type": "code",
   "execution_count": 40,
   "metadata": {},
   "outputs": [
    {
     "name": "stderr",
     "output_type": "stream",
     "text": [
      "  0%|                                                                                                            | 0/312188 [00:00<?, ?it/s]WARNING:root:Lossy conversion from float64 to uint8. Range [0.9546279907203753, 255.0]. Convert image to uint8 prior to saving to suppress this warning.\n",
      "WARNING:root:Lossy conversion from float64 to uint8. Range [0, 1]. Convert image to uint8 prior to saving to suppress this warning.\n",
      "WARNING:root:Lossy conversion from float64 to uint8. Range [0, 1]. Convert image to uint8 prior to saving to suppress this warning.\n",
      "WARNING:root:Lossy conversion from float64 to uint8. Range [0, 1]. Convert image to uint8 prior to saving to suppress this warning.\n",
      "WARNING:root:Lossy conversion from float64 to uint8. Range [0, 1]. Convert image to uint8 prior to saving to suppress this warning.\n",
      "WARNING:root:Lossy conversion from float64 to uint8. Range [0, 1]. Convert image to uint8 prior to saving to suppress this warning.\n",
      "WARNING:root:Lossy conversion from float64 to uint8. Range [0, 1]. Convert image to uint8 prior to saving to suppress this warning.\n",
      "WARNING:root:Lossy conversion from float64 to uint8. Range [0, 1]. Convert image to uint8 prior to saving to suppress this warning.\n",
      "WARNING:root:Lossy conversion from float64 to uint8. Range [0, 1]. Convert image to uint8 prior to saving to suppress this warning.\n",
      "WARNING:root:Lossy conversion from float64 to uint8. Range [0, 1]. Convert image to uint8 prior to saving to suppress this warning.\n",
      "WARNING:root:Lossy conversion from float64 to uint8. Range [0, 1]. Convert image to uint8 prior to saving to suppress this warning.\n",
      "WARNING:root:Lossy conversion from float64 to uint8. Range [0, 1]. Convert image to uint8 prior to saving to suppress this warning.\n",
      "WARNING:root:Lossy conversion from float64 to uint8. Range [0, 1]. Convert image to uint8 prior to saving to suppress this warning.\n",
      "WARNING:root:Lossy conversion from float64 to uint8. Range [0, 1]. Convert image to uint8 prior to saving to suppress this warning.\n",
      "WARNING:root:Lossy conversion from float64 to uint8. Range [0, 1]. Convert image to uint8 prior to saving to suppress this warning.\n",
      "WARNING:root:Lossy conversion from float64 to uint8. Range [0, 1]. Convert image to uint8 prior to saving to suppress this warning.\n",
      "WARNING:root:Lossy conversion from float64 to uint8. Range [0, 1]. Convert image to uint8 prior to saving to suppress this warning.\n",
      "WARNING:root:Lossy conversion from float64 to uint8. Range [0, 1]. Convert image to uint8 prior to saving to suppress this warning.\n",
      "WARNING:root:Lossy conversion from float64 to uint8. Range [0, 1]. Convert image to uint8 prior to saving to suppress this warning.\n",
      "WARNING:root:Lossy conversion from float64 to uint8. Range [0, 1]. Convert image to uint8 prior to saving to suppress this warning.\n",
      "WARNING:root:Lossy conversion from float64 to uint8. Range [0, 1]. Convert image to uint8 prior to saving to suppress this warning.\n",
      "WARNING:root:Lossy conversion from float64 to uint8. Range [0, 1]. Convert image to uint8 prior to saving to suppress this warning.\n",
      "WARNING:root:Lossy conversion from float64 to uint8. Range [0, 1]. Convert image to uint8 prior to saving to suppress this warning.\n",
      "WARNING:root:Lossy conversion from float64 to uint8. Range [0, 1]. Convert image to uint8 prior to saving to suppress this warning.\n",
      "WARNING:root:Lossy conversion from float64 to uint8. Range [0, 1]. Convert image to uint8 prior to saving to suppress this warning.\n",
      "WARNING:root:Lossy conversion from float64 to uint8. Range [0, 1]. Convert image to uint8 prior to saving to suppress this warning.\n",
      "WARNING:root:Lossy conversion from float64 to uint8. Range [0, 1]. Convert image to uint8 prior to saving to suppress this warning.\n",
      "WARNING:root:Lossy conversion from float64 to uint8. Range [0, 1]. Convert image to uint8 prior to saving to suppress this warning.\n",
      "WARNING:root:Lossy conversion from float64 to uint8. Range [0, 1]. Convert image to uint8 prior to saving to suppress this warning.\n",
      "WARNING:root:Lossy conversion from float64 to uint8. Range [0, 1]. Convert image to uint8 prior to saving to suppress this warning.\n",
      "WARNING:root:Lossy conversion from float64 to uint8. Range [0, 1]. Convert image to uint8 prior to saving to suppress this warning.\n",
      "WARNING:root:Lossy conversion from float64 to uint8. Range [0, 1]. Convert image to uint8 prior to saving to suppress this warning.\n",
      "WARNING:root:Lossy conversion from float64 to uint8. Range [0, 1]. Convert image to uint8 prior to saving to suppress this warning.\n",
      "WARNING:root:Lossy conversion from float64 to uint8. Range [0, 1]. Convert image to uint8 prior to saving to suppress this warning.\n",
      "WARNING:root:Lossy conversion from float64 to uint8. Range [0, 1]. Convert image to uint8 prior to saving to suppress this warning.\n",
      "WARNING:root:Lossy conversion from float64 to uint8. Range [0, 1]. Convert image to uint8 prior to saving to suppress this warning.\n",
      "WARNING:root:Lossy conversion from float64 to uint8. Range [0, 1]. Convert image to uint8 prior to saving to suppress this warning.\n",
      "WARNING:root:Lossy conversion from float64 to uint8. Range [0, 1]. Convert image to uint8 prior to saving to suppress this warning.\n",
      "WARNING:root:Lossy conversion from float64 to uint8. Range [0, 1]. Convert image to uint8 prior to saving to suppress this warning.\n",
      "WARNING:root:Lossy conversion from float64 to uint8. Range [0, 1]. Convert image to uint8 prior to saving to suppress this warning.\n",
      "WARNING:root:Lossy conversion from float64 to uint8. Range [0, 1]. Convert image to uint8 prior to saving to suppress this warning.\n",
      "WARNING:root:Lossy conversion from float64 to uint8. Range [0, 1]. Convert image to uint8 prior to saving to suppress this warning.\n",
      "WARNING:root:Lossy conversion from float64 to uint8. Range [0, 1]. Convert image to uint8 prior to saving to suppress this warning.\n",
      "WARNING:root:Lossy conversion from float64 to uint8. Range [0, 1]. Convert image to uint8 prior to saving to suppress this warning.\n",
      "WARNING:root:Lossy conversion from float64 to uint8. Range [0, 1]. Convert image to uint8 prior to saving to suppress this warning.\n",
      "WARNING:root:Lossy conversion from float64 to uint8. Range [0, 1]. Convert image to uint8 prior to saving to suppress this warning.\n",
      "WARNING:root:Lossy conversion from float64 to uint8. Range [0, 1]. Convert image to uint8 prior to saving to suppress this warning.\n",
      "WARNING:root:Lossy conversion from float64 to uint8. Range [0, 1]. Convert image to uint8 prior to saving to suppress this warning.\n",
      "WARNING:root:Lossy conversion from float64 to uint8. Range [0, 1]. Convert image to uint8 prior to saving to suppress this warning.\n",
      "WARNING:root:Lossy conversion from float64 to uint8. Range [0, 1]. Convert image to uint8 prior to saving to suppress this warning.\n",
      "WARNING:root:Lossy conversion from float64 to uint8. Range [0, 1]. Convert image to uint8 prior to saving to suppress this warning.\n",
      "WARNING:root:Lossy conversion from float64 to uint8. Range [0, 1]. Convert image to uint8 prior to saving to suppress this warning.\n",
      "WARNING:root:Lossy conversion from float64 to uint8. Range [0, 1]. Convert image to uint8 prior to saving to suppress this warning.\n",
      "WARNING:root:Lossy conversion from float64 to uint8. Range [0, 1]. Convert image to uint8 prior to saving to suppress this warning.\n",
      "WARNING:root:Lossy conversion from float64 to uint8. Range [0, 1]. Convert image to uint8 prior to saving to suppress this warning.\n",
      "WARNING:root:Lossy conversion from float64 to uint8. Range [0, 1]. Convert image to uint8 prior to saving to suppress this warning.\n",
      "WARNING:root:Lossy conversion from float64 to uint8. Range [0, 1]. Convert image to uint8 prior to saving to suppress this warning.\n",
      "WARNING:root:Lossy conversion from float64 to uint8. Range [0, 1]. Convert image to uint8 prior to saving to suppress this warning.\n",
      "WARNING:root:Lossy conversion from float64 to uint8. Range [0, 1]. Convert image to uint8 prior to saving to suppress this warning.\n",
      "WARNING:root:Lossy conversion from float64 to uint8. Range [0, 1]. Convert image to uint8 prior to saving to suppress this warning.\n"
     ]
    },
    {
     "name": "stderr",
     "output_type": "stream",
     "text": [
      "WARNING:root:Lossy conversion from float64 to uint8. Range [0, 1]. Convert image to uint8 prior to saving to suppress this warning.\n",
      "WARNING:root:Lossy conversion from float64 to uint8. Range [0, 1]. Convert image to uint8 prior to saving to suppress this warning.\n",
      "WARNING:root:Lossy conversion from float64 to uint8. Range [0, 1]. Convert image to uint8 prior to saving to suppress this warning.\n",
      "WARNING:root:Lossy conversion from float64 to uint8. Range [0, 1]. Convert image to uint8 prior to saving to suppress this warning.\n",
      "WARNING:root:Lossy conversion from float64 to uint8. Range [0, 1]. Convert image to uint8 prior to saving to suppress this warning.\n",
      "  0%|                                                                                                | 1/312188 [00:05<460:49:03,  5.31s/it]\n"
     ]
    }
   ],
   "source": [
    "data_dir = 'D:/data/Human3.6M/converted'\n",
    "\n",
    "# Voxel heatmap sigma.\n",
    "heatmap_xy_coefficient = 2\n",
    "heatmap_z_coefficient = -1\n",
    "\n",
    "# Voxel resolution.\n",
    "voxel_xy_resolution = 64\n",
    "voxel_z_fine_resolution = 64\n",
    "voxel_z_coarse_resolution = 64\n",
    "\n",
    "with tqdm(range(len(parser))) as progress:\n",
    "    for S, center, part, scale, zind, image_name in parser:\n",
    "        \n",
    "        # Extract subject and camera name from an image name.\n",
    "        subject, _, camera, _ = decode_image_name(image_name)\n",
    "\n",
    "        # Pre-calculate constants.\n",
    "        # heatmap_z_coefficient is 1, 1, 1, 3, 5, 7, 13 for 1, 2, 4, 8, 16, 32, 64.\n",
    "        heatmap_z_coefficient = 2 * math.floor((6 * heatmap_xy_coefficient * voxel_z_coarse_resolution / voxel_z_fine_resolution + 1)/2) + 1\n",
    "        image_xy_resolution = 200 * scale\n",
    "        \n",
    "        # Crop RGB image.\n",
    "        image = skimage.io.imread('%s/%s-2/%s' % (data_dir, subject, image_name))\n",
    "        image = cropImage(image, center, scale, 0, 256)\n",
    "\n",
    "        # Convert the coordinate from a RGB image to a cropped RGB image.\n",
    "        xy = voxel_xy_resolution * (part - center) / image_xy_resolution + voxel_xy_resolution * 0.5\n",
    "\n",
    "        # Build voxel.\n",
    "        voxel = np.zeros(shape = (len(part) * voxel_z_coarse_resolution, voxel_xy_resolution, voxel_xy_resolution))\n",
    "        for part_idx in range(len(part)):\n",
    "            # zind range (1, 64)\n",
    "            # z range (0, 63)\n",
    "            z = math.ceil(zind[part_idx] * voxel_z_coarse_resolution / voxel_z_fine_resolution)\n",
    "            voxel[part_idx * voxel_z_coarse_resolution : (part_idx + 1) * voxel_z_coarse_resolution] = generateVoxel(\n",
    "                voxel_xy_resolution, voxel_z_coarse_resolution,\n",
    "                xy[part_idx], z,\n",
    "                heatmap_xy_coefficient, heatmap_z_coefficient)\n",
    "            \n",
    "        '''\n",
    "        z_root = S[0, 2] + z_delta\n",
    "        z_relative = z_centers[zind - 1]\n",
    "        z = z_root + z_relative\n",
    "\n",
    "        f = np.loadtxt('calibration/%s_f.txt' % camera)\n",
    "        c = np.loadtxt('calibration/%s_c.txt' % camera)\n",
    "        k = np.loadtxt('calibration/%s_k.txt' % camera)\n",
    "        p = np.loadtxt('calibration/%s_p.txt' % camera)\n",
    "\n",
    "        x = (part[:, 0] - c[0]) * z / f[0]\n",
    "        y = (part[:, 1] - c[1]) * z / f[1]\n",
    "\n",
    "        reconstructed = np.stack([x, y, z]).transpose(1, 0)\n",
    "        for distance in reconstructed - S:\n",
    "            distance = np.linalg.norm(distance)\n",
    "\n",
    "            avg_error = avg_error + distance / (len(parser) * len(part))\n",
    "\n",
    "        '''\n",
    "        '''\n",
    "        xy_heatmap = np.zeros(shape = (part.shape[0], voxel_xy_resolution, voxel_xy_resolution))\n",
    "\n",
    "        for joint_idx in range(part.shape[0]):\n",
    "            xy_heatmap[joint_idx] = generateHeatmap(voxel_xy_resolution, xy[joint_idx][1], xy[joint_idx][0], heatmap_xy_coefficient)\n",
    "        '''\n",
    "        \n",
    "        \n",
    "        for z in range(voxel_z_coarse_resolution):\n",
    "            for y in range(voxel_xy_resolution):\n",
    "                for x in range(voxel_xy_resolution):\n",
    "                    voxel[z, y, x] = np.max(voxel[[part * voxel_z_coarse_resolution + z for part in range(len(part))], y, x])\n",
    "\n",
    "        # image = skimage.io.imread('%s/%s-2/%s' % (data_dir, subject, image_name))\n",
    "        # image = cropImage(image, center, scale, 0, 256)\n",
    "        imageio.imwrite('test.png', image)\n",
    "        for z in range(voxel_z_coarse_resolution):\n",
    "            imageio.imwrite('heatmap%02d.png' % z, voxel[z, :, :])\n",
    "        \n",
    "        progress.update(1)\n",
    "        break"
   ]
  },
  {
   "cell_type": "code",
   "execution_count": 32,
   "metadata": {},
   "outputs": [
    {
     "name": "stdout",
     "output_type": "stream",
     "text": [
      "26.6379737854 65.2688064575\n",
      "1069.51525879 872.157531738\n",
      "[ 58706  58706  58706  58711 309030 309031  58708 309031 309030 311876\n",
      " 275734 309031 162193  72986 309030 309030  40585] [15 15 15 ..., 13 13 13]\n",
      "58706 6 [ 946.85723877  548.83477783] S5_Discussion_2.58860488_004511.jpg\n",
      "58706 6 [ 946.85723877  548.83477783] S5_Discussion_2.58860488_004511.jpg\n",
      "58706 6 [ 946.85723877  548.83477783] S5_Discussion_2.58860488_004511.jpg\n",
      "58711 6 [ 941.17199707  541.5166626 ] S5_Discussion_2.58860488_004536.jpg\n",
      "309030 15 [ 1007.0904541    368.27191162] S8_Walking_1.60457274_002731.jpg\n",
      "309031 15 [ 1005.95770264   364.03140259] S8_Walking_1.60457274_002736.jpg\n",
      "58708 6 [ 947.03924561  547.58380127] S5_Discussion_2.58860488_004521.jpg\n",
      "309031 15 [ 1005.95770264   364.03140259] S8_Walking_1.60457274_002736.jpg\n",
      "309030 15 [ 1007.0904541    368.27191162] S8_Walking_1.60457274_002731.jpg\n",
      "311876 15 [ 964.93914795  399.12380981] S8_Walking.60457274_002136.jpg\n",
      "275734 16 [ 1023.88323975   356.5803833 ] S8_Phoning_1.60457274_001341.jpg\n",
      "309031 15 [ 1005.95770264   364.03140259] S8_Walking_1.60457274_002736.jpg\n",
      "162193 12 [ 912.94128418  372.38894653] S6_Smoking_1.60457274_001446.jpg\n",
      "72986 16 [ 972.72155762  258.3270874 ] S5_Greeting_2.60457274_002031.jpg\n",
      "309030 15 [ 1007.0904541    368.27191162] S8_Walking_1.60457274_002731.jpg\n",
      "309030 15 [ 1007.0904541    368.27191162] S8_Walking_1.60457274_002731.jpg\n",
      "40585 16 [ 1069.51525879   396.29669189] S1_WalkTogether_1.60457274_000721.jpg\n"
     ]
    }
   ],
   "source": [
    "print(np.min(parser.annotation['part'][:, :, 0]), np.min(parser.annotation['part'][:, :, 1]))\n",
    "print(np.max(parser.annotation['part'][:, :, 0]), np.max(parser.annotation['part'][:, :, 1]))\n",
    "print(np.argmax(parser.annotation['part'][:, :, 0], 0), np.argmax(parser.annotation['part'][:, :, 0], 1))\n",
    "\n",
    "for index in np.argmax(parser.annotation['part'][:, :, 0], 0):\n",
    "    part = np.argmax(parser.annotation['part'][index, :, 0], 0)\n",
    "    image_name = parser.image_name[index]\n",
    "    subject, _, camera, _ = decode_image_name(image_name)\n",
    "    print(index, part, parser.annotation['part'][index, part, :], image_name)\n",
    "    image = skimage.io.imread('%s/%s-2/%s' % (data_dir, subject, image_name))\n",
    "    imageio.imwrite('test.png', image)"
   ]
  },
  {
   "cell_type": "code",
   "execution_count": null,
   "metadata": {
    "collapsed": true
   },
   "outputs": [],
   "source": [
    "z_limits = np.squeeze(scipy.io.loadmat('C:/Users/I.B. Park/Desktop/c2f-vol-demo-master/matlab/utils/data/voxel_limits.mat')['limits'])\n",
    "z_centers = (z_limits[1:65] + z_limits[0:64]) / 2\n",
    "z_delta = z_limits[32]"
   ]
  },
  {
   "cell_type": "code",
   "execution_count": null,
   "metadata": {
    "collapsed": true
   },
   "outputs": [],
   "source": [
    "annotation = h5py.File('C:/Users/I.B. Park/Desktop/h36m/annot/train.h5', 'r')\n",
    "# annotation = h5py.File('C:/Users/I.B. Park/Desktop/c2f-vol-demo-master/data/h36m-sample/annot/valid.h5', 'r')\n",
    "image_name = np.genfromtxt('C:/Users/I.B. Park/Desktop/h36m/annot/train_images.txt', dtype = str)"
   ]
  },
  {
   "cell_type": "code",
   "execution_count": null,
   "metadata": {
    "collapsed": true
   },
   "outputs": [],
   "source": [
    "image_idx = 158213 # 981"
   ]
  },
  {
   "cell_type": "code",
   "execution_count": null,
   "metadata": {
    "collapsed": true
   },
   "outputs": [],
   "source": [
    "print('image:', image_name[image_idx])\n",
    "print('camera:', image_name[image_idx].split('.')[1].split('_')[0])\n",
    "for key, value in annotation.items():\n",
    "    print(key, type(value[image_idx]))\n",
    "    print(value[image_idx])\n",
    "    if type(value[image_idx]) is np.ndarray:\n",
    "        print(value[image_idx].shape)\n",
    "image = imageio.imread(os.path.join('C:/Users/I.B. Park/Desktop/S1-2', image_name[image_idx]))\n",
    "imageio.imwrite('test.png', image)"
   ]
  },
  {
   "cell_type": "code",
   "execution_count": null,
   "metadata": {
    "collapsed": true
   },
   "outputs": [],
   "source": [
    "x = annotation['part'][image_idx][:, 0]\n",
    "y = annotation['part'][image_idx][:, 1]\n",
    "print((np.max(x) + np.min(x))/2)\n",
    "print((np.max(y) + np.min(y))/2)"
   ]
  },
  {
   "cell_type": "code",
   "execution_count": null,
   "metadata": {
    "collapsed": true
   },
   "outputs": [],
   "source": [
    "max_length = -1\n",
    "with tqdm(range(annotation['S'].shape[0])) as progress:\n",
    "    for S in annotation['S']:\n",
    "        '''\n",
    "        for keypoint in S:\n",
    "            delta = keypoint - S[0]\n",
    "            length = np.linalg.norm(delta)\n",
    "            if max_length < length:\n",
    "                max_length = length\n",
    "        '''\n",
    "        x, y, z = [S[:, 0], S[:, 1], S[:, 2]]\n",
    "        delta_x = np.max(x) - np.min(x)\n",
    "        delta_y = np.max(y) - np.min(y)\n",
    "        delta_z = np.max(z) - np.min(z)\n",
    "\n",
    "        length = np.linalg.norm([delta_x, delta_y, delta_z])\n",
    "        if max_length < length:\n",
    "            max_length = length\n",
    "            \n",
    "        progress.update(1)\n",
    "print(max_length)"
   ]
  },
  {
   "cell_type": "code",
   "execution_count": null,
   "metadata": {
    "collapsed": true
   },
   "outputs": [],
   "source": [
    "# image_idx = 158213\n",
    "for image_idx in tqdm(range(annotation['S'].shape[0])):\n",
    "    z = annotation['S'][image_idx][:, -1]\n",
    "    z_center = (np.max(z) + np.min(z)) / 2\n",
    "    z_center = z[0]\n",
    "    z_index = (z - z_center + 12.163020574832672)/(31.0319651) + 33\n",
    "    z_index = np.floor(z_index).astype(int)\n",
    "    hit = ((z_index == annotation['zind'][image_idx]) == True).all()\n",
    "    if not hit:\n",
    "        print(image_idx)\n",
    "        print(z_index)\n",
    "        break"
   ]
  },
  {
   "cell_type": "code",
   "execution_count": null,
   "metadata": {
    "collapsed": true
   },
   "outputs": [],
   "source": [
    "print((annotation['zind'][:][0] == 33).all())\n",
    "print(annotation['zind'][:20][0])"
   ]
  },
  {
   "cell_type": "code",
   "execution_count": null,
   "metadata": {
    "collapsed": true
   },
   "outputs": [],
   "source": [
    "c = annotation['center'][image_idx]\n",
    "pelvis = c #annotation['part'][image_idx][0]\n",
    "h = 200.0 * annotation['scale'][image_idx]\n",
    "res = 64.0\n",
    "converted = pelvis * res / h + res * (-c / h + 0.5)\n",
    "print(converted)"
   ]
  },
  {
   "cell_type": "code",
   "execution_count": null,
   "metadata": {
    "collapsed": true
   },
   "outputs": [],
   "source": [
    "# for part_idx in tqdm(range(len(annotation['part'][image_idx]))):\n",
    "# x, y = annotation['part'][image_idx][part_idx].astype(int)\n",
    "x, y = annotation['part'][image_idx][0].astype(int)\n",
    "for tx in range(-5, 5):\n",
    "    for ty in range(-5, 5):\n",
    "        xx = x + tx\n",
    "        yy = y + ty\n",
    "        if not 0 <= xx < image.shape[1] or not 0 <= yy < image.shape[0]:\n",
    "            continue\n",
    "        image[yy, xx, :] = [255, 0, 0]\n",
    "imageio.imwrite('test.png', image)"
   ]
  },
  {
   "cell_type": "code",
   "execution_count": null,
   "metadata": {
    "collapsed": true
   },
   "outputs": [],
   "source": [
    "t = int(100 * annotation['scale'][image_idx])\n",
    "for tx in range(-t, t):\n",
    "    for ty in range(-t, t):\n",
    "        xx = x + tx\n",
    "        yy = y + ty\n",
    "        if not 0 <= xx < image.shape[1] or not 0 <= yy < image.shape[0]:\n",
    "            continue\n",
    "        image[yy, xx, :] = [255, 0, 0]\n",
    "imageio.imwrite('test.png', image)"
   ]
  },
  {
   "cell_type": "code",
   "execution_count": null,
   "metadata": {
    "collapsed": true
   },
   "outputs": [],
   "source": [
    "mine = [\n",
    "    [30.776466, -359.742493, 5252.067383],\n",
    "    [-67.319511, -339.605377, 5164.619629],\n",
    "    [-52.176018, 94.260391, 5252.292969],\n",
    "    [-9.488297, 545.306580, 5284.522461],\n",
    "    [128.872269, -379.879578, 5339.514648],\n",
    "    [112.328552, 61.875256, 5366.618164],\n",
    "    [132.056335, 515.574890, 5375.042480],\n",
    "    [87.822304, -573.780762, 5178.282715],\n",
    "    [93.088982, -821.356262, 5109.235352],\n",
    "    [60.073814, -909.662292, 5185.299316],\n",
    "    [78.938721, -1011.616516, 5135.550293],\n",
    "    [-23.573996, -758.941406, 5036.396484],\n",
    "    [-216.210449, -599.674622, 5160.093262],\n",
    "    [-324.774109, -706.496399, 5360.524902],\n",
    "    [197.457428, -796.293518, 5215.487793],\n",
    "    [198.218262, -681.528198, 5469.671875],\n",
    "    [10.382108, -717.354492, 5633.383301],\n",
    "]"
   ]
  },
  {
   "cell_type": "code",
   "execution_count": null,
   "metadata": {
    "collapsed": true
   },
   "outputs": [],
   "source": [
    "for idx in range(len(mine)):\n",
    "    print(np.linalg.norm(mine[idx] - annotation['S'][image_idx][idx]))"
   ]
  },
  {
   "cell_type": "code",
   "execution_count": null,
   "metadata": {
    "collapsed": true
   },
   "outputs": [],
   "source": [
    "cam = image_name[image_idx].split('.')[1].split('_')[0]\n",
    "\n",
    "f = np.loadtxt('calibration/%s_f.txt' % cam)\n",
    "c = np.loadtxt('calibration/%s_c.txt' % cam)\n",
    "k = np.loadtxt('calibration/%s_k.txt' % cam)\n",
    "p = np.loadtxt('calibration/%s_p.txt' % cam)\n",
    "\n",
    "distort = np.asarray([k[0], k[1], p[0], p[1], k[2]])\n",
    "cam_mat = np.mat('%f 0 %f; 0 %f %f; 0 0 1' % (f[0], c[0], f[1], c[1]))\n",
    "\n",
    "h,  w = image.shape[:2]\n",
    "newcameramtx, roi = cv2.getOptimalNewCameraMatrix(cam_mat,distort,(w,h),1,(w,h))\n",
    "map_x, map_y = cv2.initUndistortRectifyMap(cam_mat, distort, None, newcameramtx,(w,h),5)"
   ]
  },
  {
   "cell_type": "code",
   "execution_count": null,
   "metadata": {
    "collapsed": true
   },
   "outputs": [],
   "source": [
    "inverse = np.linalg.inv(cam_mat)\n",
    "S = np.ndarray(shape=(len(mine), 3), dtype=np.float)\n",
    "for idx in range(len(mine)):\n",
    "    y, x = annotation['part'][image_idx][idx].astype(int)\n",
    "    yx = [y, x] -  annotation['part'][image_idx][0].astype(int) + 200 * annotation['scale'][image_idx]\n",
    "    yx = yx / 2 * 200 * annotation['scale'][image_idx]\n",
    "    S[idx] = np.squeeze(inverse * np.asarray([[yx[1], yx[0], 1.0]]).transpose((1, 0)))\n",
    "print(S)"
   ]
  },
  {
   "cell_type": "code",
   "execution_count": null,
   "metadata": {
    "collapsed": true
   },
   "outputs": [],
   "source": [
    "z = annotation['zind'][image_idx].astype(float)\n",
    "z = z - z[0]\n",
    "z = 100 * 10 * z / 64\n",
    "print(z)"
   ]
  },
  {
   "cell_type": "code",
   "execution_count": null,
   "metadata": {
    "collapsed": true
   },
   "outputs": [],
   "source": [
    "converted = (S)\n",
    "converted = converted * np.expand_dims(annotation['S'][image_idx][0][-1].astype(float) + z, -1)\n",
    "print(converted - converted[0])"
   ]
  }
 ],
 "metadata": {
  "kernelspec": {
   "display_name": "Python 3",
   "language": "python",
   "name": "python3"
  },
  "language_info": {
   "codemirror_mode": {
    "name": "ipython",
    "version": 3
   },
   "file_extension": ".py",
   "mimetype": "text/x-python",
   "name": "python",
   "nbconvert_exporter": "python",
   "pygments_lexer": "ipython3",
   "version": "3.5.3"
  }
 },
 "nbformat": 4,
 "nbformat_minor": 2
}
